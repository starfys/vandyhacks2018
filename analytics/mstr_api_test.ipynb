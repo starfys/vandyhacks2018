{
 "cells": [
  {
   "cell_type": "code",
   "execution_count": 91,
   "metadata": {},
   "outputs": [],
   "source": [
    "import pandas as pd\n",
    "import os\n",
    "import sys\n",
    "import time\n",
    "from mstrio import microstrategy\n",
    "import requests\n",
    "import json"
   ]
  },
  {
   "cell_type": "code",
   "execution_count": 124,
   "metadata": {},
   "outputs": [],
   "source": [
    "base_url=\"https://env-113279.customer.cloud.microstrategy.com/MicroStrategyLibrary/api\"\n",
    "username=\"swr2u@mtmail.mtsu.edu\"\n",
    "password=\"graei39lxn8\"\n",
    "project_name=\"MicroStrategy Tutorial\"\n",
    "\n",
    "conn = microstrategy.Connection(base_url=base_url,\n",
    "                                username=username,\n",
    "                                password=password,\n",
    "                                project_name=project_name)\n",
    "conn.connect()"
   ]
  },
  {
   "cell_type": "code",
   "execution_count": 125,
   "metadata": {},
   "outputs": [],
   "source": [
    "def login(url, username, password):\n",
    "    url = url\n",
    "    path = \"/auth/login\"\n",
    "    data = {\n",
    "      \"username\": username,\n",
    "      \"password\": password,\n",
    "      \"loginMode\": 1}\n",
    "\n",
    "    r = requests.post(url+path, json=data)\n",
    "    session_token = r.headers['X-MSTR-AuthToken']\n",
    "    cookie = r.headers['Set-Cookie']\n",
    "    return session_token, r, cookie\n",
    "\n",
    "\n",
    "def get_sessions(session_token, cookie):\n",
    "    url = base_url\n",
    "    path = \"/sessions\"\n",
    "    headers = {'X-MSTR-AuthToken': session_token,\n",
    "              'Cookie': cookie}\n",
    "\n",
    "    r = requests.get(url+path, headers=headers)\n",
    "    return r\n",
    "\n",
    "def get_project_id(session_token, cookie):\n",
    "    url = base_url\n",
    "    path = \"/projects\"\n",
    "    headers = {'X-MSTR-AuthToken': session_token,\n",
    "              'Cookie': cookie}\n",
    "\n",
    "    r = requests.get(url+path, headers=headers)\n",
    "    return r\n",
    "\n",
    "def get_cubes(session_token, cookie, project_id):\n",
    "    url = base_url\n",
    "    path = \"/documents/\" + project_id + \"/cubes\"\n",
    "    print(path)\n",
    "    headers = {'X-MSTR-AuthToken': session_token,\n",
    "              'Cookie': cookie}\n",
    "\n",
    "    r = requests.get(url+path, headers=headers)\n",
    "    return r\n",
    "\n",
    "def get_vis(session_token, cookie, dossierId, instanceId, chapterKey, visualizationKey):\n",
    "    url = base_url\n",
    "    path = \"/dossiers/{dossierId}/instances/{instanceId}/chapters/{chapterKey}/visualizations/{visualizationKey}\".format(\n",
    "        dossierId=dossierId,\n",
    "        instanceID=instanceID,\n",
    "        chapterKey=chapterKey,\n",
    "        visualizationKey=visualizationKey,\n",
    "    )\n",
    "    headers = {'X-MSTR-AuthToken': session_token,\n",
    "              'Cookie': cookie}\n",
    "    r = requests.get(url+path, headers=headers)\n",
    "    return r\n",
    "\n",
    "def get_instance_id(session_token, cookie, dossierId):\n",
    "    url = base_url\n",
    "    path = \"/dossiers/{dossierId}/instances\".format(dossierId=dossierId)\n",
    "    headers = {'X-MSTR-AuthToken': session_token,\n",
    "              'Cookie': cookie}\n",
    "    r = requests.post(url+path, headers=headers)\n",
    "    return r"
   ]
  },
  {
   "cell_type": "code",
   "execution_count": 126,
   "metadata": {},
   "outputs": [],
   "source": [
    "session_token, r, cookie = login(base_url, username, password)"
   ]
  },
  {
   "cell_type": "code",
   "execution_count": 127,
   "metadata": {},
   "outputs": [
    {
     "data": {
      "text/plain": [
       "'{\"locale\":1033,\"maxSearch\":3,\"workingSet\":10,\"timeout\":600,\"id\":\"88B3DEF811E8DF0E00000080EF85F696\",\"fullName\":\"Samuel Remedios\",\"initials\":\"SR\"}'"
      ]
     },
     "execution_count": 127,
     "metadata": {},
     "output_type": "execute_result"
    }
   ],
   "source": [
    "r = get_sessions(session_token, cookie)\n",
    "r.text"
   ]
  },
  {
   "cell_type": "code",
   "execution_count": 128,
   "metadata": {},
   "outputs": [
    {
     "data": {
      "text/plain": [
       "'{\"code\":\"ERR004\",\"iServerCode\":-2147216373,\"message\":\"The object does not exist in the metadata.\",\"ticketId\":\"97d336cab664494ba24d5b43d09557de\"}'"
      ]
     },
     "execution_count": 128,
     "metadata": {},
     "output_type": "execute_result"
    }
   ],
   "source": [
    "dossierId = \"82954BB64330F60558E49590CA9EC979\"\n",
    "r = get_instance_id(session_token, cookie, dossierId)\n",
    "r.text"
   ]
  },
  {
   "cell_type": "code",
   "execution_count": null,
   "metadata": {},
   "outputs": [],
   "source": [
    "instanceId = \n",
    "chapterKey =\n",
    "visualizationKey = \n",
    "\n",
    "r = get_vis(session_token, cookie, dossierId, instanceId, chapterKey, visualizationKey)"
   ]
  },
  {
   "cell_type": "code",
   "execution_count": 112,
   "metadata": {},
   "outputs": [
    {
     "name": "stdout",
     "output_type": "stream",
     "text": [
      "{'status': 0, 'acg': 255, 'owner': {'id': '54F3D26011D2896560009A8E67019608', 'name': 'Administrator'}, 'dateModified': '2018-09-13T18:18:28.000+0000', 'dateCreated': '2015-06-30T21:55:35.000+0000', 'name': 'MicroStrategy Tutorial', 'description': \"MicroStrategy Tutorial project and application set designed to illustrate the platform's rich functionality. The theme is an Electronics, Books, Movies and Music store. Employees, Inventory, Finance, Product Sales and Suppliers are analyzed.\", 'alias': '', 'id': 'B7CA92F04B9FAE8D941C3E9B7E0CD754'}\n",
      "{'status': 0, 'acg': 255, 'owner': {'id': '54F3D26011D2896560009A8E67019608', 'name': 'Administrator'}, 'dateModified': '2018-10-01T15:21:00.000+0000', 'dateCreated': '2016-11-20T16:39:48.000+0000', 'name': 'Consolidated Education Project', 'description': '', 'alias': '', 'id': 'CE52831411E696C8BD2F0080EFD5AF44'}\n",
      "{'status': 0, 'acg': 255, 'owner': {'id': '54F3D26011D2896560009A8E67019608', 'name': 'Administrator'}, 'dateModified': '2018-10-01T15:21:26.000+0000', 'dateCreated': '2016-11-20T16:43:45.000+0000', 'name': 'Hierarchies Project', 'description': '', 'alias': '', 'id': 'B3FEE61A11E696C8BD0F0080EFC58F44'}\n",
      "{'status': 0, 'acg': 255, 'owner': {'id': '54F3D26011D2896560009A8E67019608', 'name': 'Administrator'}, 'dateModified': '2018-10-01T15:21:52.000+0000', 'dateCreated': '2016-11-20T16:46:11.000+0000', 'name': 'Human Resources Analysis Module', 'description': 'The Human Resources Analysis Module analyses workforce headcount, trends and profiles, employee attrition and recruitment, compensation and benefit costs and employee qualifications, performance and satisfaction.', 'alias': '', 'id': '4BAE16A340B995CAD24193AA3AC15D29'}\n",
      "{'status': 0, 'acg': 255, 'owner': {'id': '54F3D26011D2896560009A8E67019608', 'name': 'Administrator'}, 'dateModified': '2018-10-01T15:22:18.000+0000', 'dateCreated': '2016-11-20T16:49:27.000+0000', 'name': 'Relationships Project', 'description': '', 'alias': '', 'id': '4C09350211E69712BAEE0080EFB56D41'}\n",
      "{'status': 0, 'acg': 255, 'owner': {'id': '54F3D26011D2896560009A8E67019608', 'name': 'Administrator'}, 'dateModified': '2018-10-11T16:52:12.000+0000', 'dateCreated': '2018-10-01T15:30:28.000+0000', 'name': 'Platform Analytics', 'description': 'Platform Analytics (11.0.0)', 'platformAnalytics': True, 'alias': '', 'id': 'ECD1141C11E8C58E183B0080EFC5C799'}\n"
     ]
    }
   ],
   "source": [
    "r = get_project_id(session_token, cookie)\n",
    "lines = json.loads(r.text)\n",
    "for line in lines:\n",
    "    print(line)\n",
    "project_id = 'B7CA92F04B9FAE8D941C3E9B7E0CD754'"
   ]
  },
  {
   "cell_type": "code",
   "execution_count": 113,
   "metadata": {},
   "outputs": [
    {
     "name": "stdout",
     "output_type": "stream",
     "text": [
      "/documents/B7CA92F04B9FAE8D941C3E9B7E0CD754/cubes\n"
     ]
    },
    {
     "data": {
      "text/plain": [
       "<Response [500]>"
      ]
     },
     "execution_count": 113,
     "metadata": {},
     "output_type": "execute_result"
    }
   ],
   "source": [
    "r = get_cubes(session_token, cookie, conn.project_id)\n",
    "r"
   ]
  },
  {
   "cell_type": "code",
   "execution_count": null,
   "metadata": {},
   "outputs": [],
   "source": [
    "\n",
    "base_url=\"https://env-113279.customer.cloud.microstrategy.com/MicroStrategyLibrary/api\"\n",
    "api_login = \"sam2\"\n",
    "api_password = \"graei39lxn8\"\n",
    "\n",
    "session_token, r, cookie = login(base_url, api_username, api_password)\n",
    "\n",
    "r = get_sessions(session_token, cookie)\n",
    "\n",
    "print(r.headers)\n",
    "print(r.text)"
   ]
  },
  {
   "cell_type": "code",
   "execution_count": 27,
   "metadata": {},
   "outputs": [
    {
     "name": "stdout",
     "output_type": "stream",
     "text": [
      "Getting token...\n",
      "HTTP 401 - , Message {\"code\":\"ERR009\",\"message\":\"The users session has expired, please reauthenticate\",\"ticketId\":\"c4dd3ce55da04d26955b73392ae7cf2e\"}\n"
     ]
    }
   ],
   "source": [
    "def login(base_url,api_login,api_password):\n",
    "    print(\"Getting token...\")\n",
    "    data_get = {'username': api_login,\n",
    "                'password': api_password,\n",
    "                'loginMode': 1}\n",
    "    r = requests.post(base_url + 'auth/login', data=data_get)\n",
    "    if r.ok:\n",
    "        authToken = r.headers['X-MSTR-AuthToken']\n",
    "        cookies = dict(r.cookies)\n",
    "        print(\"Token: \" + authToken)\n",
    "        return authToken, cookies\n",
    "    else:\n",
    "        print(\"HTTP %i - %s, Message %s\" % (r.status_code, r.reason, r.text))\n",
    "        return _,_\n",
    "        \n",
    "base_url=\"https://env-113279.customer.cloud.microstrategy.com/MicroStrategyLibrary/api\"\n",
    "api_login = \"sam2\"\n",
    "api_password = \"graei39lxn8\"\n",
    "\n",
    "authToken, cookies = login(base_url,api_login,api_password)"
   ]
  },
  {
   "cell_type": "code",
   "execution_count": 17,
   "metadata": {},
   "outputs": [
    {
     "data": {
      "text/plain": [
       "1"
      ]
     },
     "execution_count": 17,
     "metadata": {},
     "output_type": "execute_result"
    }
   ],
   "source": [
    "os.system(\"curl -X GET --header 'Accept: application/json' --header 'X-MSTR-AuthToken: 3f17r9cb53t0fkpbbgml5pmji2' 'https://env-113279.customer.cloud.microstrategy.com/MicroStrategyLibrary/api/sessions'\")"
   ]
  },
  {
   "cell_type": "code",
   "execution_count": null,
   "metadata": {},
   "outputs": [],
   "source": []
  }
 ],
 "metadata": {
  "kernelspec": {
   "display_name": "Python 3",
   "language": "python",
   "name": "python3"
  },
  "language_info": {
   "codemirror_mode": {
    "name": "ipython",
    "version": 3
   },
   "file_extension": ".py",
   "mimetype": "text/x-python",
   "name": "python",
   "nbconvert_exporter": "python",
   "pygments_lexer": "ipython3",
   "version": "3.5.5"
  }
 },
 "nbformat": 4,
 "nbformat_minor": 2
}
