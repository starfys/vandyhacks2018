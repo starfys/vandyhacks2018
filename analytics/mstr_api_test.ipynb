{
 "cells": [
  {
   "cell_type": "code",
   "execution_count": 2,
   "metadata": {},
   "outputs": [],
   "source": [
    "import pandas as pd\n",
    "import os\n",
    "import sys\n",
    "import time\n",
    "from mstrio import microstrategy\n",
    "import requests\n",
    "import json"
   ]
  },
  {
   "cell_type": "code",
   "execution_count": 3,
   "metadata": {},
   "outputs": [],
   "source": [
    "base_url=\"https://env-113279.customer.cloud.microstrategy.com/MicroStrategyLibrary/api\"\n",
    "username=\"swr2u@mtmail.mtsu.edu\"\n",
    "password=\"graei39lxn8\"\n",
    "project_name=\"MicroStrategy Tutorial\"\n",
    "\n",
    "conn = microstrategy.Connection(base_url=base_url,\n",
    "                                username=username,\n",
    "                                password=password,\n",
    "                                project_name=project_name)\n",
    "conn.connect()"
   ]
  },
  {
   "cell_type": "code",
   "execution_count": 12,
   "metadata": {},
   "outputs": [],
   "source": [
    "def login(url, username, password):\n",
    "    url = url\n",
    "    path = \"/auth/login\"\n",
    "    data = {\n",
    "      \"username\": username,\n",
    "      \"password\": password,\n",
    "      \"loginMode\": 1}\n",
    "\n",
    "    r = requests.post(url+path, json=data)\n",
    "    session_token = r.headers['X-MSTR-AuthToken']\n",
    "    cookie = r.headers['Set-Cookie']\n",
    "    return session_token, r, cookie\n",
    "\n",
    "\n",
    "def get_sessions(session_token, cookie):\n",
    "    url = base_url\n",
    "    path = \"/sessions\"\n",
    "    headers = {'X-MSTR-AuthToken': session_token,\n",
    "              'Cookie': cookie}\n",
    "\n",
    "    r = requests.get(url+path, headers=headers)\n",
    "    return r\n",
    "\n",
    "def get_project_id(session_token, cookie):\n",
    "    url = base_url\n",
    "    path = \"/projects\"\n",
    "    headers = {'X-MSTR-AuthToken': session_token,\n",
    "              'Cookie': cookie}\n",
    "\n",
    "    r = requests.get(url+path, headers=headers)\n",
    "    return r\n",
    "\n",
    "def get_datasets(session_token, cookie):\n",
    "    url = base_url\n",
    "    path = \"/datasets\"\n",
    "    headers = {'X-MSTR-AuthToken': session_token,\n",
    "               'X-MSTR-ProjectID': project_id,\n",
    "              'Cookie': cookie}\n",
    "\n",
    "    r = requests.post(url+path, headers=headers)\n",
    "    return r.json()\n",
    "\n",
    "def get_cubes(session_token, cookie, project_id):\n",
    "    url = base_url\n",
    "    path = \"/documents/\" + project_id + \"/cubes\"\n",
    "    print(path)\n",
    "    headers = {'X-MSTR-AuthToken': session_token,\n",
    "              'Cookie': cookie}\n",
    "\n",
    "    r = requests.get(url+path, headers=headers)\n",
    "    return r\n",
    "\n",
    "def get_vis(session_token, cookie, dossierId, instanceId, chapterKey, visualizationKey):\n",
    "    url = base_url\n",
    "    path = \"/dossiers/{dossierId}/instances/{instanceId}/chapters/{chapterKey}/visualizations/{visualizationKey}\".format(\n",
    "        dossierId=dossierId,\n",
    "        instanceId=instanceId,\n",
    "        chapterKey=chapterKey,\n",
    "        visualizationKey=visualizationKey,\n",
    "    )\n",
    "    print(path)\n",
    "    headers = {'X-MSTR-AuthToken': session_token,\n",
    "               'X-MSTR-ProjectID': project_id,\n",
    "              'Cookie': cookie}\n",
    "    r = requests.get(url+path, headers=headers)\n",
    "    return r\n",
    "\n",
    "def get_instance_id(session_token, project_id, cookie, dossierId):\n",
    "    url = base_url\n",
    "    path = \"/dossiers/{dossierId}/instances\".format(dossierId=dossierId)\n",
    "    headers = {'X-MSTR-AuthToken': session_token,\n",
    "               'X-MSTR-ProjectID': project_id,\n",
    "               'Cookie': cookie}\n",
    "    r = requests.post(url+path, headers=headers)\n",
    "    return json.loads(r.text)['mid']\n",
    "\n",
    "\n",
    "def get_definitions(session_token, project_id, cookie, dossierId):\n",
    "    url = base_url\n",
    "    path = \"/dossiers/{dossierId}/definition\".format(dossierId=dossierId)\n",
    "    headers = {'X-MSTR-AuthToken': session_token,\n",
    "               'X-MSTR-ProjectID': project_id,\n",
    "               'Cookie': cookie}\n",
    "    r = requests.get(url+path, headers=headers)\n",
    "    r_dict = json.loads(r.text)\n",
    "    chapter_key = r_dict['chapters'][0]['key']\n",
    "    node_key = r_dict['chapters'][0]['pages'][0]['key']\n",
    "    visualization_key = r_dict['chapters'][0]['pages'][0]['visualizations'][0]['key']\n",
    "    return chapter_key, visualization_key, node_key\n",
    "\n",
    "def get_pdf(session_token, project_id, cookie, dossierId, node_key):\n",
    "    url = base_url\n",
    "    path = \"/documents/{Id}/instances/{instanceId}/visualizations/{nodeKey}/pdf\".format(\n",
    "        Id=dossierId,\n",
    "        instanceId=instanceId,\n",
    "        nodeKey=node_key\n",
    "    )\n",
    "    headers = {'X-MSTR-AuthToken': session_token,\n",
    "               'X-MSTR-ProjectID': project_id,\n",
    "               'Cookie': cookie}\n",
    "    r = requests.post(url+path, headers=headers)\n",
    "    return r"
   ]
  },
  {
   "cell_type": "code",
   "execution_count": 14,
   "metadata": {},
   "outputs": [],
   "source": [
    "session_token, r, cookie = login(base_url, username, password)"
   ]
  },
  {
   "cell_type": "code",
   "execution_count": 15,
   "metadata": {},
   "outputs": [
    {
     "data": {
      "text/plain": [
       "'{\"locale\":1033,\"maxSearch\":3,\"workingSet\":10,\"timeout\":600,\"id\":\"88B3DEF811E8DF0E00000080EF85F696\",\"fullName\":\"Samuel Remedios\",\"initials\":\"SR\"}'"
      ]
     },
     "execution_count": 15,
     "metadata": {},
     "output_type": "execute_result"
    }
   ],
   "source": [
    "r = get_sessions(session_token, cookie)\n",
    "r.text"
   ]
  },
  {
   "cell_type": "code",
   "execution_count": 16,
   "metadata": {},
   "outputs": [],
   "source": [
    "dossierId = \"82954BB64330F60558E49590CA9EC979\"\n",
    "project_id = 'B7CA92F04B9FAE8D941C3E9B7E0CD754'\n",
    "instanceId = get_instance_id(session_token, project_id, cookie, dossierId)\n",
    "chapterKey, visualizationKey, node_key = get_definitions(session_token, project_id, cookie, dossierId)\n",
    "\n",
    "#r = get_vis(session_token, cookie, dossierId, instanceId, chapterKey, visualizationKey)\n",
    "r = get_pdf(session_token, cookie, dossierId, instanceId, node_key)"
   ]
  },
  {
   "cell_type": "code",
   "execution_count": 17,
   "metadata": {},
   "outputs": [
    {
     "data": {
      "text/plain": [
       "{'code': 'ERR006',\n",
       " 'message': 'Following constraint violations has been detected:\\n   path: createDICube.arg2; message: may not be null',\n",
       " 'ticketId': '1dc81c907ffd488caafe07d30ae00082'}"
      ]
     },
     "execution_count": 17,
     "metadata": {},
     "output_type": "execute_result"
    }
   ],
   "source": [
    "get_datasets(session_token, project_id, cookie)"
   ]
  },
  {
   "cell_type": "code",
   "execution_count": 35,
   "metadata": {},
   "outputs": [
    {
     "data": {
      "text/plain": [
       "{'code': 'ERR009',\n",
       " 'message': 'The users session has expired, please reauthenticate',\n",
       " 'ticketId': 'b940dd85cb6449d594564103f422fe3a'}"
      ]
     },
     "execution_count": 35,
     "metadata": {},
     "output_type": "execute_result"
    }
   ],
   "source": [
    "r.json()"
   ]
  },
  {
   "cell_type": "code",
   "execution_count": null,
   "metadata": {},
   "outputs": [],
   "source": [
    "r = get_project_id(session_token, cookie)\n",
    "lines = json.loads(r.text)\n",
    "for line in lines:\n",
    "    print(line)\n"
   ]
  },
  {
   "cell_type": "code",
   "execution_count": null,
   "metadata": {},
   "outputs": [],
   "source": [
    "r = get_cubes(session_token, cookie, conn.project_id)\n",
    "r"
   ]
  },
  {
   "cell_type": "code",
   "execution_count": null,
   "metadata": {},
   "outputs": [],
   "source": [
    "\n",
    "base_url=\"https://env-113279.customer.cloud.microstrategy.com/MicroStrategyLibrary/api\"\n",
    "api_login = \"sam2\"\n",
    "api_password = \"graei39lxn8\"\n",
    "\n",
    "session_token, r, cookie = login(base_url, api_username, api_password)\n",
    "\n",
    "r = get_sessions(session_token, cookie)\n",
    "\n",
    "print(r.headers)\n",
    "print(r.text)"
   ]
  }
 ],
 "metadata": {
  "kernelspec": {
   "display_name": "Python 3",
   "language": "python",
   "name": "python3"
  },
  "language_info": {
   "codemirror_mode": {
    "name": "ipython",
    "version": 3
   },
   "file_extension": ".py",
   "mimetype": "text/x-python",
   "name": "python",
   "nbconvert_exporter": "python",
   "pygments_lexer": "ipython3",
   "version": "3.5.5"
  }
 },
 "nbformat": 4,
 "nbformat_minor": 2
}
