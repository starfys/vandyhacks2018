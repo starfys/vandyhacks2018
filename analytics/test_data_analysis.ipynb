{
 "cells": [
  {
   "cell_type": "code",
   "execution_count": 1,
   "metadata": {},
   "outputs": [
    {
     "name": "stderr",
     "output_type": "stream",
     "text": [
      "Using TensorFlow backend.\n"
     ]
    }
   ],
   "source": [
    "import os\n",
    "import pandas as pd\n",
    "import numpy as np\n",
    "import json\n",
    "\n",
    "from keras.utils import to_categorical\n",
    "from keras.engine import Input, Model\n",
    "from keras.layers import Dense, Flatten\n",
    "from keras.layers.core import Activation\n",
    "from keras.optimizers import Adam\n",
    "import keras.backend as K"
   ]
  },
  {
   "cell_type": "code",
   "execution_count": 2,
   "metadata": {},
   "outputs": [],
   "source": [
    "# helper functions to turn arbitrary numpy arrays into a single tensor\n",
    "\n",
    "from itertools import zip_longest\n",
    "\n",
    "def find_shape(seq):\n",
    "    try:\n",
    "        len_ = len(seq)\n",
    "    except TypeError:\n",
    "        return ()\n",
    "    shapes = [find_shape(subseq) for subseq in seq]\n",
    "    return (len_,) + tuple(max(sizes) for sizes in zip_longest(*shapes,\n",
    "                                                                fillvalue=1))\n",
    "\n",
    "def fill_array(arr, seq):\n",
    "    if arr.ndim == 1:\n",
    "        try:\n",
    "            len_ = len(seq)\n",
    "        except TypeError:\n",
    "            len_ = 0\n",
    "        arr[:len_] = seq\n",
    "        arr[len_:] = 0\n",
    "    else:\n",
    "        for subarr, subseq in zip_longest(arr, seq, fillvalue=()):\n",
    "            fill_array(subarr, subseq)\n",
    "# convert np array back into interpretable string\n",
    "def interpret_tensor(tensor, row, feature_dicts, feature):\n",
    "    return feature_dicts[feature][np.argmax(tensor[list(feature_dicts.keys())\n",
    "                                                    .index(feature), row])]"
   ]
  },
  {
   "cell_type": "code",
   "execution_count": 4,
   "metadata": {},
   "outputs": [],
   "source": [
    "DATA_DIR = \"data\"\n",
    "quiet_csv = os.path.join(DATA_DIR, \"quiet.csv\")"
   ]
  },
  {
   "cell_type": "code",
   "execution_count": 5,
   "metadata": {},
   "outputs": [],
   "source": [
    "df = pd.read_csv(quiet_csv)"
   ]
  },
  {
   "cell_type": "code",
   "execution_count": 6,
   "metadata": {},
   "outputs": [
    {
     "data": {
      "text/html": [
       "<div>\n",
       "<style scoped>\n",
       "    .dataframe tbody tr th:only-of-type {\n",
       "        vertical-align: middle;\n",
       "    }\n",
       "\n",
       "    .dataframe tbody tr th {\n",
       "        vertical-align: top;\n",
       "    }\n",
       "\n",
       "    .dataframe thead th {\n",
       "        text-align: right;\n",
       "    }\n",
       "</style>\n",
       "<table border=\"1\" class=\"dataframe\">\n",
       "  <thead>\n",
       "    <tr style=\"text-align: right;\">\n",
       "      <th></th>\n",
       "      <th>Unnamed: 0</th>\n",
       "      <th>task_id</th>\n",
       "      <th>start_time</th>\n",
       "      <th>end_time</th>\n",
       "      <th>music</th>\n",
       "      <th>num_interruptions</th>\n",
       "      <th>workspace_volume</th>\n",
       "      <th>num_meetings</th>\n",
       "      <th>num_breaks</th>\n",
       "      <th>progress</th>\n",
       "    </tr>\n",
       "  </thead>\n",
       "  <tbody>\n",
       "    <tr>\n",
       "      <th>0</th>\n",
       "      <td>0</td>\n",
       "      <td>1.488769e+19</td>\n",
       "      <td>1.541228e+12</td>\n",
       "      <td>1.541228e+12</td>\n",
       "      <td>0.0</td>\n",
       "      <td>3.0</td>\n",
       "      <td>0.145156</td>\n",
       "      <td>5.0</td>\n",
       "      <td>6.0</td>\n",
       "      <td>0.678035</td>\n",
       "    </tr>\n",
       "    <tr>\n",
       "      <th>1</th>\n",
       "      <td>1</td>\n",
       "      <td>1.488769e+19</td>\n",
       "      <td>1.541228e+12</td>\n",
       "      <td>1.541228e+12</td>\n",
       "      <td>1.0</td>\n",
       "      <td>7.0</td>\n",
       "      <td>0.819426</td>\n",
       "      <td>4.0</td>\n",
       "      <td>2.0</td>\n",
       "      <td>0.532048</td>\n",
       "    </tr>\n",
       "    <tr>\n",
       "      <th>2</th>\n",
       "      <td>2</td>\n",
       "      <td>1.488769e+19</td>\n",
       "      <td>1.541228e+12</td>\n",
       "      <td>1.541228e+12</td>\n",
       "      <td>0.0</td>\n",
       "      <td>5.0</td>\n",
       "      <td>0.568760</td>\n",
       "      <td>2.0</td>\n",
       "      <td>6.0</td>\n",
       "      <td>0.836014</td>\n",
       "    </tr>\n",
       "    <tr>\n",
       "      <th>3</th>\n",
       "      <td>3</td>\n",
       "      <td>1.488769e+19</td>\n",
       "      <td>1.541228e+12</td>\n",
       "      <td>1.541228e+12</td>\n",
       "      <td>1.0</td>\n",
       "      <td>5.0</td>\n",
       "      <td>1.000000</td>\n",
       "      <td>2.0</td>\n",
       "      <td>3.0</td>\n",
       "      <td>0.808164</td>\n",
       "    </tr>\n",
       "    <tr>\n",
       "      <th>4</th>\n",
       "      <td>4</td>\n",
       "      <td>1.488769e+19</td>\n",
       "      <td>1.541228e+12</td>\n",
       "      <td>1.541228e+12</td>\n",
       "      <td>0.0</td>\n",
       "      <td>3.0</td>\n",
       "      <td>0.626914</td>\n",
       "      <td>1.0</td>\n",
       "      <td>10.0</td>\n",
       "      <td>0.354390</td>\n",
       "    </tr>\n",
       "  </tbody>\n",
       "</table>\n",
       "</div>"
      ],
      "text/plain": [
       "   Unnamed: 0       task_id    start_time      end_time  music  \\\n",
       "0           0  1.488769e+19  1.541228e+12  1.541228e+12    0.0   \n",
       "1           1  1.488769e+19  1.541228e+12  1.541228e+12    1.0   \n",
       "2           2  1.488769e+19  1.541228e+12  1.541228e+12    0.0   \n",
       "3           3  1.488769e+19  1.541228e+12  1.541228e+12    1.0   \n",
       "4           4  1.488769e+19  1.541228e+12  1.541228e+12    0.0   \n",
       "\n",
       "   num_interruptions  workspace_volume  num_meetings  num_breaks  progress  \n",
       "0                3.0          0.145156           5.0         6.0  0.678035  \n",
       "1                7.0          0.819426           4.0         2.0  0.532048  \n",
       "2                5.0          0.568760           2.0         6.0  0.836014  \n",
       "3                5.0          1.000000           2.0         3.0  0.808164  \n",
       "4                3.0          0.626914           1.0        10.0  0.354390  "
      ]
     },
     "execution_count": 6,
     "metadata": {},
     "output_type": "execute_result"
    }
   ],
   "source": [
    "df.head()"
   ]
  },
  {
   "cell_type": "code",
   "execution_count": 9,
   "metadata": {},
   "outputs": [],
   "source": [
    "# test regression: predict balance by age, job, marital, education, housing, duration of last contac\n",
    "columns = df.columns\n",
    "drop = ['Unnamed: 0', \n",
    "        'task_id', \n",
    "        'start_time', \n",
    "        'end_time',]\n",
    "# prune unused features\n",
    "df = df.drop(drop, axis=1)\n",
    "\n",
    "# set up variables\n",
    "y = df['progress']\n",
    "X = df.drop('progress', axis=1)"
   ]
  },
  {
   "cell_type": "code",
   "execution_count": 16,
   "metadata": {},
   "outputs": [],
   "source": [
    "# feature engineering could go here\n",
    "# set up duration, split start time into categorical or integer value\n",
    "# that corresponds to time of day (morn/aft/night)\n",
    "# and adjust the X datarrame appropriately\n",
    "\n",
    "# normalize X with column-wise linear downscale\n",
    "X = X.divide(X.max(axis=0))"
   ]
  },
  {
   "cell_type": "code",
   "execution_count": 17,
   "metadata": {},
   "outputs": [
    {
     "data": {
      "text/plain": [
       "\"\\n# only necessary if categorical data\\nfeature_dicts = {}\\nX_new = []\\nfor col in X.columns:\\n    feature_dicts[col] = dict(enumerate(X['job'].astype('category').cat.categories))\\n    X_new.append(to_categorical(X[col].astype('category').cat.codes))\\n    \\n# convert list into np array\\nX_train = np.empty(find_shape(X_new))\\nfill_array(X_train, X_new) # no return, fills by reference\\n\\n# reshape such that samples is first element\\n# (num_samples, num_features, one-hot length)\\nX_train = np.rollaxis(X_train,1,0)\\n\""
      ]
     },
     "execution_count": 17,
     "metadata": {},
     "output_type": "execute_result"
    }
   ],
   "source": [
    "'''\n",
    "# only necessary if categorical data\n",
    "feature_dicts = {}\n",
    "X_new = []\n",
    "for col in X.columns:\n",
    "    feature_dicts[col] = dict(enumerate(X['job'].astype('category').cat.categories))\n",
    "    X_new.append(to_categorical(X[col].astype('category').cat.codes))\n",
    "    \n",
    "# convert list into np array\n",
    "X_train = np.empty(find_shape(X_new))\n",
    "fill_array(X_train, X_new) # no return, fills by reference\n",
    "\n",
    "# reshape such that samples is first element\n",
    "# (num_samples, num_features, one-hot length)\n",
    "X_train = np.rollaxis(X_train,1,0)\n",
    "'''"
   ]
  },
  {
   "cell_type": "code",
   "execution_count": 18,
   "metadata": {},
   "outputs": [
    {
     "data": {
      "text/plain": [
       "(1000, 5)"
      ]
     },
     "execution_count": 18,
     "metadata": {},
     "output_type": "execute_result"
    }
   ],
   "source": [
    "X.shape"
   ]
  },
  {
   "cell_type": "code",
   "execution_count": 24,
   "metadata": {},
   "outputs": [],
   "source": [
    "# build basic dnn\n",
    "def dnn(input_shape, model_path, lr=1e-4, verbose=0):\n",
    "    inputs = Input(shape=input_shape[1:])\n",
    "\n",
    "    x = Dense(64, activation='relu')(inputs)\n",
    "    x = Dense(16, activation='relu')(x)\n",
    "    x = Dense(1)(x)\n",
    "    \n",
    "    outputs = Activation('sigmoid')(x)\n",
    "    \n",
    "    model = Model(inputs=inputs, outputs=outputs)\n",
    "\n",
    "    # dice as a human-readble metric \n",
    "    model.compile(optimizer=Adam(lr=lr),\n",
    "                  metrics=['mae'],\n",
    "                  loss='mse')\n",
    "\n",
    "    # save json\n",
    "    json_string = model.to_json()\n",
    "    with open(model_path, 'w') as f:\n",
    "        json.dump(json_string, f)\n",
    "\n",
    "    # selectively print model\n",
    "    if verbose:\n",
    "        print(model.summary())\n",
    "\n",
    "    return model"
   ]
  },
  {
   "cell_type": "code",
   "execution_count": 25,
   "metadata": {
    "scrolled": false
   },
   "outputs": [
    {
     "name": "stdout",
     "output_type": "stream",
     "text": [
      "_________________________________________________________________\n",
      "Layer (type)                 Output Shape              Param #   \n",
      "=================================================================\n",
      "input_2 (InputLayer)         (None, 5)                 0         \n",
      "_________________________________________________________________\n",
      "dense_4 (Dense)              (None, 64)                384       \n",
      "_________________________________________________________________\n",
      "dense_5 (Dense)              (None, 16)                1040      \n",
      "_________________________________________________________________\n",
      "dense_6 (Dense)              (None, 1)                 17        \n",
      "_________________________________________________________________\n",
      "activation_2 (Activation)    (None, 1)                 0         \n",
      "=================================================================\n",
      "Total params: 1,441\n",
      "Trainable params: 1,441\n",
      "Non-trainable params: 0\n",
      "_________________________________________________________________\n",
      "None\n"
     ]
    }
   ],
   "source": [
    "model_path = os.path.join(\"models\", \"dnn.json\")\n",
    "model = dnn(X.shape, model_path, verbose=1)"
   ]
  },
  {
   "cell_type": "code",
   "execution_count": 26,
   "metadata": {
    "scrolled": true
   },
   "outputs": [
    {
     "data": {
      "text/plain": [
       "<keras.callbacks.History at 0x1c460e0a320>"
      ]
     },
     "execution_count": 26,
     "metadata": {},
     "output_type": "execute_result"
    }
   ],
   "source": [
    "model.fit(X, y, \n",
    "          epochs=1000,\n",
    "          batch_size=128,\n",
    "          validation_split=0.2,\n",
    "          verbose=0)"
   ]
  },
  {
   "cell_type": "code",
   "execution_count": 28,
   "metadata": {},
   "outputs": [
    {
     "name": "stdout",
     "output_type": "stream",
     "text": [
      "1000/1000 [==============================] - 0s 78us/step\n"
     ]
    }
   ],
   "source": [
    "# predict and update model\n",
    "results = model.predict(X, batch_size=64, verbose=1)"
   ]
  },
  {
   "cell_type": "code",
   "execution_count": 29,
   "metadata": {},
   "outputs": [
    {
     "data": {
      "text/plain": [
       "(1000, 1)"
      ]
     },
     "execution_count": 29,
     "metadata": {},
     "output_type": "execute_result"
    }
   ],
   "source": [
    "results.shape"
   ]
  },
  {
   "cell_type": "code",
   "execution_count": 30,
   "metadata": {},
   "outputs": [],
   "source": [
    "df_new = df.copy()"
   ]
  },
  {
   "cell_type": "code",
   "execution_count": 31,
   "metadata": {},
   "outputs": [],
   "source": [
    "df_new['predictions'] = results"
   ]
  },
  {
   "cell_type": "code",
   "execution_count": 32,
   "metadata": {},
   "outputs": [
    {
     "data": {
      "text/html": [
       "<div>\n",
       "<style scoped>\n",
       "    .dataframe tbody tr th:only-of-type {\n",
       "        vertical-align: middle;\n",
       "    }\n",
       "\n",
       "    .dataframe tbody tr th {\n",
       "        vertical-align: top;\n",
       "    }\n",
       "\n",
       "    .dataframe thead th {\n",
       "        text-align: right;\n",
       "    }\n",
       "</style>\n",
       "<table border=\"1\" class=\"dataframe\">\n",
       "  <thead>\n",
       "    <tr style=\"text-align: right;\">\n",
       "      <th></th>\n",
       "      <th>music</th>\n",
       "      <th>num_interruptions</th>\n",
       "      <th>workspace_volume</th>\n",
       "      <th>num_meetings</th>\n",
       "      <th>num_breaks</th>\n",
       "      <th>progress</th>\n",
       "      <th>predictions</th>\n",
       "    </tr>\n",
       "  </thead>\n",
       "  <tbody>\n",
       "    <tr>\n",
       "      <th>0</th>\n",
       "      <td>0.0</td>\n",
       "      <td>3.0</td>\n",
       "      <td>0.145156</td>\n",
       "      <td>5.0</td>\n",
       "      <td>6.0</td>\n",
       "      <td>0.678035</td>\n",
       "      <td>0.713078</td>\n",
       "    </tr>\n",
       "    <tr>\n",
       "      <th>1</th>\n",
       "      <td>1.0</td>\n",
       "      <td>7.0</td>\n",
       "      <td>0.819426</td>\n",
       "      <td>4.0</td>\n",
       "      <td>2.0</td>\n",
       "      <td>0.532048</td>\n",
       "      <td>0.697032</td>\n",
       "    </tr>\n",
       "    <tr>\n",
       "      <th>2</th>\n",
       "      <td>0.0</td>\n",
       "      <td>5.0</td>\n",
       "      <td>0.568760</td>\n",
       "      <td>2.0</td>\n",
       "      <td>6.0</td>\n",
       "      <td>0.836014</td>\n",
       "      <td>0.707898</td>\n",
       "    </tr>\n",
       "    <tr>\n",
       "      <th>3</th>\n",
       "      <td>1.0</td>\n",
       "      <td>5.0</td>\n",
       "      <td>1.000000</td>\n",
       "      <td>2.0</td>\n",
       "      <td>3.0</td>\n",
       "      <td>0.808164</td>\n",
       "      <td>0.730441</td>\n",
       "    </tr>\n",
       "    <tr>\n",
       "      <th>4</th>\n",
       "      <td>0.0</td>\n",
       "      <td>3.0</td>\n",
       "      <td>0.626914</td>\n",
       "      <td>1.0</td>\n",
       "      <td>10.0</td>\n",
       "      <td>0.354390</td>\n",
       "      <td>0.683142</td>\n",
       "    </tr>\n",
       "  </tbody>\n",
       "</table>\n",
       "</div>"
      ],
      "text/plain": [
       "   music  num_interruptions  workspace_volume  num_meetings  num_breaks  \\\n",
       "0    0.0                3.0          0.145156           5.0         6.0   \n",
       "1    1.0                7.0          0.819426           4.0         2.0   \n",
       "2    0.0                5.0          0.568760           2.0         6.0   \n",
       "3    1.0                5.0          1.000000           2.0         3.0   \n",
       "4    0.0                3.0          0.626914           1.0        10.0   \n",
       "\n",
       "   progress  predictions  \n",
       "0  0.678035     0.713078  \n",
       "1  0.532048     0.697032  \n",
       "2  0.836014     0.707898  \n",
       "3  0.808164     0.730441  \n",
       "4  0.354390     0.683142  "
      ]
     },
     "execution_count": 32,
     "metadata": {},
     "output_type": "execute_result"
    }
   ],
   "source": [
    "df_new.head()"
   ]
  },
  {
   "cell_type": "code",
   "execution_count": 33,
   "metadata": {},
   "outputs": [],
   "source": [
    "df_new.to_csv(\"predicted.csv\")\n"
   ]
  },
  {
   "cell_type": "code",
   "execution_count": null,
   "metadata": {},
   "outputs": [],
   "source": []
  }
 ],
 "metadata": {
  "kernelspec": {
   "display_name": "Python 3",
   "language": "python",
   "name": "python3"
  },
  "language_info": {
   "codemirror_mode": {
    "name": "ipython",
    "version": 3
   },
   "file_extension": ".py",
   "mimetype": "text/x-python",
   "name": "python",
   "nbconvert_exporter": "python",
   "pygments_lexer": "ipython3",
   "version": "3.5.5"
  }
 },
 "nbformat": 4,
 "nbformat_minor": 2
}
