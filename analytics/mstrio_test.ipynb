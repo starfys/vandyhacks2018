{
 "cells": [
  {
   "cell_type": "code",
   "execution_count": 1,
   "metadata": {},
   "outputs": [],
   "source": [
    "import pandas as pd\n",
    "import os\n",
    "import sys\n",
    "import time\n",
    "from mstrio import microstrategy\n",
    "import requests\n",
    "import json"
   ]
  },
  {
   "cell_type": "code",
   "execution_count": 2,
   "metadata": {},
   "outputs": [],
   "source": [
    "base_url=\"https://env-113279.customer.cloud.microstrategy.com/MicroStrategyLibrary/api\"\n",
    "username=\"swr2u@mtmail.mtsu.edu\"\n",
    "password=\"graei39lxn8\"\n",
    "project_name=\"MicroStrategy Tutorial\""
   ]
  },
  {
   "cell_type": "code",
   "execution_count": 3,
   "metadata": {},
   "outputs": [],
   "source": [
    "conn = microstrategy.Connection(base_url=base_url,\n",
    "                                username=username,\n",
    "                                password=password,\n",
    "                                project_name=project_name)\n",
    "#conn.connect()"
   ]
  },
  {
   "cell_type": "code",
   "execution_count": 4,
   "metadata": {},
   "outputs": [
    {
     "data": {
      "text/plain": [
       "'\\nDATA_DIR = \"data\"\\ndata_with_predictions = os.path.join(DATA_DIR, \"predicted.csv\")\\ndf = pd.read_csv(data_with_predictions)\\n# upload data\\nnewDatasetId, newTableId = conn.create_dataset(data_frame=df,\\n                                               dataset_name=\\'Employee Productivity\\',\\n                                               table_name=\\'Predicted Productivity\\')\\n'"
      ]
     },
     "execution_count": 4,
     "metadata": {},
     "output_type": "execute_result"
    }
   ],
   "source": [
    "'''\n",
    "DATA_DIR = \"data\"\n",
    "data_with_predictions = os.path.join(DATA_DIR, \"predicted.csv\")\n",
    "df = pd.read_csv(data_with_predictions)\n",
    "# upload data\n",
    "newDatasetId, newTableId = conn.create_dataset(data_frame=df,\n",
    "                                               dataset_name='Employee Productivity',\n",
    "                                               table_name='Predicted Productivity')\n",
    "'''"
   ]
  },
  {
   "cell_type": "code",
   "execution_count": 8,
   "metadata": {},
   "outputs": [
    {
     "name": "stdout",
     "output_type": "stream",
     "text": [
      "{'Transfer-Encoding': 'chunked', 'Connection': 'keep-alive', 'Expires': '0', 'Content-Type': 'application/json;charset=UTF-8', 'Date': 'Sat, 03 Nov 2018 15:46:47 GMT', 'Server': 'MicroStrategy', 'Cache-Control': 'no-cache, no-store, max-age=0, must-revalidate', 'Pragma': 'no-cache'}\n",
      "{\"code\":\"ERR009\",\"message\":\"The users session has expired, please reauthenticate\",\"ticketId\":\"ae18afa846be459aa088dfe9c8201fcb\"}\n"
     ]
    }
   ],
   "source": [
    "def login(url, username, password):\n",
    "    url = url\n",
    "    path = \"/auth/login\"\n",
    "    #headers = {'content-type': 'password'}\n",
    "    data = {\n",
    "      \"username\": username,\n",
    "      \"password\": password,\n",
    "      \"loginMode\": 1,\n",
    "    }\n",
    "\n",
    "    r = requests.post(url+path, json=data)\n",
    "    session_token = r.headers['X-MSTR-AuthToken']\n",
    "    return session_token, r\n",
    "\n",
    "def get_sessions(session_token):\n",
    "    url = base_url\n",
    "    path = \"/sessions\"\n",
    "    headers = {'X-MSTR-AuthToken': session_token}\n",
    "\n",
    "    r = requests.get(url+path, headers=headers)\n",
    "    return r\n",
    "\n",
    "api_username = \"\"\n",
    "api_password = \"\"\n",
    "\n",
    "session_token, r = login(base_url, api_username, api_password)\n",
    "\n",
    "r = get_sessions(session_token)\n",
    "\n",
    "print(r.headers)\n",
    "print(r.text)"
   ]
  }
 ],
 "metadata": {
  "kernelspec": {
   "display_name": "Python 3",
   "language": "python",
   "name": "python3"
  },
  "language_info": {
   "codemirror_mode": {
    "name": "ipython",
    "version": 3
   },
   "file_extension": ".py",
   "mimetype": "text/x-python",
   "name": "python",
   "nbconvert_exporter": "python",
   "pygments_lexer": "ipython3",
   "version": "3.5.5"
  }
 },
 "nbformat": 4,
 "nbformat_minor": 2
}
