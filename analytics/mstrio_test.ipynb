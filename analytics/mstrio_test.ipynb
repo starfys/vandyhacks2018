{
 "cells": [
  {
   "cell_type": "code",
   "execution_count": 49,
   "metadata": {},
   "outputs": [],
   "source": [
    "import pandas as pd\n",
    "import os\n",
    "import sys\n",
    "import time\n",
    "from mstrio import microstrategy\n",
    "import requests\n",
    "import json\n",
    "from base64 import b64encode"
   ]
  },
  {
   "cell_type": "code",
   "execution_count": 50,
   "metadata": {},
   "outputs": [
    {
     "data": {
      "text/plain": [
       "'\\nDATA_DIR = \"data\"\\ndata_with_predictions = os.path.join(DATA_DIR, \"predicted.csv\")\\ndf = pd.read_csv(data_with_predictions)\\n# upload data\\nnewDatasetId, newTableId = conn.create_dataset(data_frame=df,\\n                                               dataset_name=\\'Employee Productivity\\',\\n                                               table_name=\\'Predicted Productivity\\')\\n'"
      ]
     },
     "execution_count": 50,
     "metadata": {},
     "output_type": "execute_result"
    }
   ],
   "source": [
    "'''\n",
    "DATA_DIR = \"data\"\n",
    "data_with_predictions = os.path.join(DATA_DIR, \"predicted.csv\")\n",
    "df = pd.read_csv(data_with_predictions)\n",
    "# upload data\n",
    "newDatasetId, newTableId = conn.create_dataset(data_frame=df,\n",
    "                                               dataset_name='Employee Productivity',\n",
    "                                               table_name='Predicted Productivity')\n",
    "'''"
   ]
  },
  {
   "cell_type": "code",
   "execution_count": 57,
   "metadata": {},
   "outputs": [],
   "source": [
    "base_url=\"https://env-113279.customer.cloud.microstrategy.com/MicroStrategyLibrary/api\"\n",
    "username=\"swr2u@mtmail.mtsu.edu\"\n",
    "password=\"graei39lxn8\"\n",
    "project_name=\"MicroStrategy Tutorial\""
   ]
  },
  {
   "cell_type": "code",
   "execution_count": 58,
   "metadata": {},
   "outputs": [],
   "source": [
    "conn = microstrategy.Connection(base_url=base_url,\n",
    "                                username=username,\n",
    "                                password=password,\n",
    "                                project_name=project_name)\n",
    "conn.connect()"
   ]
  },
  {
   "cell_type": "code",
   "execution_count": 53,
   "metadata": {},
   "outputs": [],
   "source": [
    "DATA_DIR = \"data\"\n",
    "data_with_predictions = os.path.join(DATA_DIR, \"quiet.csv\")\n",
    "df = pd.read_csv(data_with_predictions, index_col=False)\n"
   ]
  },
  {
   "cell_type": "code",
   "execution_count": 54,
   "metadata": {},
   "outputs": [
    {
     "data": {
      "text/html": [
       "<div>\n",
       "<style scoped>\n",
       "    .dataframe tbody tr th:only-of-type {\n",
       "        vertical-align: middle;\n",
       "    }\n",
       "\n",
       "    .dataframe tbody tr th {\n",
       "        vertical-align: top;\n",
       "    }\n",
       "\n",
       "    .dataframe thead th {\n",
       "        text-align: right;\n",
       "    }\n",
       "</style>\n",
       "<table border=\"1\" class=\"dataframe\">\n",
       "  <thead>\n",
       "    <tr style=\"text-align: right;\">\n",
       "      <th></th>\n",
       "      <th>task_id</th>\n",
       "      <th>start_time</th>\n",
       "      <th>end_time</th>\n",
       "      <th>music</th>\n",
       "      <th>num_interruptions</th>\n",
       "      <th>workspace_volume</th>\n",
       "      <th>num_meetings</th>\n",
       "      <th>num_breaks</th>\n",
       "      <th>progress</th>\n",
       "    </tr>\n",
       "  </thead>\n",
       "  <tbody>\n",
       "    <tr>\n",
       "      <th>0</th>\n",
       "      <td>1000.0</td>\n",
       "      <td>1.541291e+12</td>\n",
       "      <td>1.541291e+12</td>\n",
       "      <td>0.0</td>\n",
       "      <td>7.0</td>\n",
       "      <td>0.210556</td>\n",
       "      <td>1.0</td>\n",
       "      <td>8.0</td>\n",
       "      <td>0.696915</td>\n",
       "    </tr>\n",
       "    <tr>\n",
       "      <th>1</th>\n",
       "      <td>1001.0</td>\n",
       "      <td>1.541291e+12</td>\n",
       "      <td>1.541291e+12</td>\n",
       "      <td>0.0</td>\n",
       "      <td>0.0</td>\n",
       "      <td>0.000000</td>\n",
       "      <td>5.0</td>\n",
       "      <td>1.0</td>\n",
       "      <td>0.581728</td>\n",
       "    </tr>\n",
       "    <tr>\n",
       "      <th>2</th>\n",
       "      <td>1002.0</td>\n",
       "      <td>1.541291e+12</td>\n",
       "      <td>1.541291e+12</td>\n",
       "      <td>0.0</td>\n",
       "      <td>6.0</td>\n",
       "      <td>0.000000</td>\n",
       "      <td>0.0</td>\n",
       "      <td>3.0</td>\n",
       "      <td>0.814499</td>\n",
       "    </tr>\n",
       "    <tr>\n",
       "      <th>3</th>\n",
       "      <td>1003.0</td>\n",
       "      <td>1.541291e+12</td>\n",
       "      <td>1.541291e+12</td>\n",
       "      <td>0.0</td>\n",
       "      <td>2.0</td>\n",
       "      <td>0.000000</td>\n",
       "      <td>4.0</td>\n",
       "      <td>6.0</td>\n",
       "      <td>0.630473</td>\n",
       "    </tr>\n",
       "    <tr>\n",
       "      <th>4</th>\n",
       "      <td>1004.0</td>\n",
       "      <td>1.541291e+12</td>\n",
       "      <td>1.541291e+12</td>\n",
       "      <td>0.0</td>\n",
       "      <td>6.0</td>\n",
       "      <td>0.172996</td>\n",
       "      <td>2.0</td>\n",
       "      <td>9.0</td>\n",
       "      <td>0.549313</td>\n",
       "    </tr>\n",
       "  </tbody>\n",
       "</table>\n",
       "</div>"
      ],
      "text/plain": [
       "   task_id    start_time      end_time  music  num_interruptions  \\\n",
       "0   1000.0  1.541291e+12  1.541291e+12    0.0                7.0   \n",
       "1   1001.0  1.541291e+12  1.541291e+12    0.0                0.0   \n",
       "2   1002.0  1.541291e+12  1.541291e+12    0.0                6.0   \n",
       "3   1003.0  1.541291e+12  1.541291e+12    0.0                2.0   \n",
       "4   1004.0  1.541291e+12  1.541291e+12    0.0                6.0   \n",
       "\n",
       "   workspace_volume  num_meetings  num_breaks  progress  \n",
       "0          0.210556           1.0         8.0  0.696915  \n",
       "1          0.000000           5.0         1.0  0.581728  \n",
       "2          0.000000           0.0         3.0  0.814499  \n",
       "3          0.000000           4.0         6.0  0.630473  \n",
       "4          0.172996           2.0         9.0  0.549313  "
      ]
     },
     "execution_count": 54,
     "metadata": {},
     "output_type": "execute_result"
    }
   ],
   "source": [
    "df.head()"
   ]
  },
  {
   "cell_type": "code",
   "execution_count": 56,
   "metadata": {},
   "outputs": [],
   "source": [
    "dataset_name = 'a'\n",
    "table_name = 'a'\n",
    "\n",
    "newDatasetId, newTableId = conn.create_dataset(data_frame=df,\n",
    "                                               dataset_name=dataset_name,\n",
    "                                               table_name=table_name,\n",
    "                                               to_attribute=['task_id'])\n"
   ]
  },
  {
   "cell_type": "code",
   "execution_count": 59,
   "metadata": {},
   "outputs": [],
   "source": [
    "DATA_DIR = \"data\"\n",
    "data_2_with_predictions = os.path.join(DATA_DIR, \"loud.csv\")\n",
    "df_2 = pd.read_csv(data_2_with_predictions)"
   ]
  },
  {
   "cell_type": "code",
   "execution_count": 60,
   "metadata": {},
   "outputs": [],
   "source": [
    "conn.update_dataset(data_frame=df_2, \n",
    "                    update_policy='add', \n",
    "                    dataset_id=newDatasetId, \n",
    "                    table_name=table_name, \n",
    "                    table_id=newTableId)"
   ]
  },
  {
   "cell_type": "code",
   "execution_count": null,
   "metadata": {},
   "outputs": [],
   "source": []
  }
 ],
 "metadata": {
  "kernelspec": {
   "display_name": "Python 3",
   "language": "python",
   "name": "python3"
  },
  "language_info": {
   "codemirror_mode": {
    "name": "ipython",
    "version": 3
   },
   "file_extension": ".py",
   "mimetype": "text/x-python",
   "name": "python",
   "nbconvert_exporter": "python",
   "pygments_lexer": "ipython3",
   "version": "3.5.5"
  }
 },
 "nbformat": 4,
 "nbformat_minor": 2
}
