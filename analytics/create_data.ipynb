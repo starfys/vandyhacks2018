{
 "cells": [
  {
   "cell_type": "code",
   "execution_count": 31,
   "metadata": {},
   "outputs": [],
   "source": [
    "import os\n",
    "import pandas as pd\n",
    "import numpy as np\n",
    "import json\n",
    "import uuid\n",
    "import random\n",
    "from time import time"
   ]
  },
  {
   "cell_type": "code",
   "execution_count": 212,
   "metadata": {},
   "outputs": [],
   "source": [
    "# random task_id\n",
    "def gen_task_id():\n",
    "    return uuid.uuid1().int>>64\n",
    "\n",
    "# random start time in num milliseconds\n",
    "def gen_start_time(mu):\n",
    "    return int(time()*1e3 + random.gauss(mu, 400))\n",
    "\n",
    "def gen_end_time(start, mu):\n",
    "    return int(start + random.gauss(mu, 400))\n",
    "\n",
    "def gen_music(mu):\n",
    "    roll = random.gauss(mu, 0.5)\n",
    "    if roll <= 0.5:\n",
    "        return 0\n",
    "    else:\n",
    "        return 1\n",
    "    \n",
    "def gen_interruptions(mu):\n",
    "    return np.abs(int(random.gauss(mu, 3)))\n",
    "\n",
    "def gen_workspace_volume(mu):\n",
    "    roll = random.gauss(mu, 0.5)\n",
    "    if roll > 1:\n",
    "        return 1\n",
    "    if roll < 0:\n",
    "        return 0\n",
    "    return roll\n",
    "    \n",
    "def gen_meetings(mu):\n",
    "    return np.abs(int(random.gauss(mu, 3)))\n",
    "\n",
    "def gen_breaks(mu):\n",
    "    return np.abs(int(random.gauss(mu, 5)))\n",
    "\n",
    "def gen_progress(mu):\n",
    "    val = np.abs(random.gauss(mu, 0.2))\n",
    "    if val > 1:\n",
    "        val = 1\n",
    "    return val\n",
    "\n",
    "def gen_row(time_mu, \n",
    "            music_mu, \n",
    "            interruptions_mu, \n",
    "            volume_mu, \n",
    "            meetings_mu, \n",
    "            breaks_mu, \n",
    "            progress_mu):\n",
    "    start = gen_start_time(time_mu)\n",
    "    return np.array([\n",
    "        gen_task_id(),\n",
    "        start,\n",
    "        gen_end_time(start, time_mu),\n",
    "        gen_music(music_mu),\n",
    "        gen_interruptions(interruptions_mu),\n",
    "        gen_workspace_volume(volume_mu),\n",
    "        gen_meetings(meetings_mu),\n",
    "        gen_breaks(breaks_mu),\n",
    "        gen_progress(progress_mu),\n",
    "    ])\n",
    "\n",
    "def gen_quiet_row():\n",
    "    return gen_row(time_mu=500,\n",
    "                    music_mu=0.2,\n",
    "                    interruptions_mu=3,\n",
    "                    volume_mu=0.1,\n",
    "                    meetings_mu=2,\n",
    "                    breaks_mu=6,\n",
    "                    progress_mu=0.7\n",
    "                   )\n",
    "\n",
    "def gen_loud_row():\n",
    "    return gen_row(time_mu=500,\n",
    "                    music_mu=0.7,\n",
    "                    interruptions_mu=7,\n",
    "                    volume_mu=0.7,\n",
    "                    meetings_mu=7,\n",
    "                    breaks_mu=1,\n",
    "                    progress_mu=0.2\n",
    "                   )"
   ]
  },
  {
   "cell_type": "code",
   "execution_count": 220,
   "metadata": {},
   "outputs": [],
   "source": [
    "columns = ['task_id',\n",
    "           'start_time',\n",
    "           'end_time',\n",
    "           'music',\n",
    "           'num_interruptions',\n",
    "           'workspace_volume', \n",
    "           'num_meetings',\n",
    "           'num_breaks',\n",
    "           'progress']"
   ]
  },
  {
   "cell_type": "code",
   "execution_count": 227,
   "metadata": {},
   "outputs": [],
   "source": [
    "loud_dataset = np.array([gen_loud_row() for x in range(1000)])\n",
    "loud_df = pd.DataFrame(data=loud_dataset, columns=columns)\n",
    "\n",
    "quiet_dataset = np.array([gen_quiet_row() for x in range(1000)])\n",
    "quiet_df = pd.DataFrame(data=quiet_dataset, columns=columns)"
   ]
  },
  {
   "cell_type": "code",
   "execution_count": 230,
   "metadata": {},
   "outputs": [
    {
     "data": {
      "text/plain": [
       "0.23768937364805687"
      ]
     },
     "execution_count": 230,
     "metadata": {},
     "output_type": "execute_result"
    }
   ],
   "source": [
    "np.mean(loud_df['progress'])"
   ]
  },
  {
   "cell_type": "code",
   "execution_count": null,
   "metadata": {},
   "outputs": [],
   "source": []
  }
 ],
 "metadata": {
  "kernelspec": {
   "display_name": "Python 3",
   "language": "python",
   "name": "python3"
  },
  "language_info": {
   "codemirror_mode": {
    "name": "ipython",
    "version": 3
   },
   "file_extension": ".py",
   "mimetype": "text/x-python",
   "name": "python",
   "nbconvert_exporter": "python",
   "pygments_lexer": "ipython3",
   "version": "3.5.5"
  }
 },
 "nbformat": 4,
 "nbformat_minor": 2
}
